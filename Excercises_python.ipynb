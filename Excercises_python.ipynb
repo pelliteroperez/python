{
 "cells": [
  {
   "cell_type": "markdown",
   "metadata": {},
   "source": [
    "# Mi primer notebook. Ejercicios \n",
    "Ejercicio 1"
   ]
  },
  {
   "cell_type": "code",
   "execution_count": 14,
   "metadata": {},
   "outputs": [
    {
     "name": "stdout",
     "output_type": "stream",
     "text": [
      "12\n"
     ]
    }
   ],
   "source": [
    "def bignum (x, y):\n",
    "    if (x>y): \n",
    "        result=x \n",
    "    else: \n",
    "        result=y \n",
    "    print(result)\n",
    "bignum (8,12)"
   ]
  },
  {
   "cell_type": "markdown",
   "metadata": {},
   "source": [
    "Ejercicio 2"
   ]
  },
  {
   "cell_type": "code",
   "execution_count": 32,
   "metadata": {},
   "outputs": [
    {
     "name": "stdout",
     "output_type": "stream",
     "text": [
      "niapS\n"
     ]
    }
   ],
   "source": [
    "def reversed (y):\n",
    "    result=\"\"\n",
    "    for k in range(len(y)):\n",
    "        result=result + y[len(y)-1-k]\n",
    "    print(result)\n",
    "\n",
    "reversed(\"Spain\")\n",
    "    "
   ]
  },
  {
   "cell_type": "code",
   "execution_count": 54,
   "metadata": {},
   "outputs": [
    {
     "name": "stdout",
     "output_type": "stream",
     "text": [
      "anna  is a palindrome.\n"
     ]
    }
   ],
   "source": [
    "def palindrome (y):\n",
    "    x=0\n",
    "    for k in range(len(y)):\n",
    "        if (y[k] == y[len(y)-1-k]):\n",
    "            x = x + 1\n",
    "               \n",
    "    if (x != 0 and x == len(y)):\n",
    "        print(y,\" is a palindrome.\")\n",
    "    else:\n",
    "        print(y,\" is not a palindrome.\")\n",
    "\n",
    "\n",
    "palindrome(\"anna\")"
   ]
  },
  {
   "cell_type": "code",
   "execution_count": 58,
   "metadata": {},
   "outputs": [
    {
     "name": "stdout",
     "output_type": "stream",
     "text": [
      "[1, 2]\n"
     ]
    }
   ],
   "source": [
    "def listnumeric (y):\n",
    "    new_list = []\n",
    "    for value in y:\n",
    "        try:\n",
    "            new_list.append(int(value))\n",
    "        except ValueError:\n",
    "            continue\n",
    "    print(new_list)\n",
    "listnumeric([1,\"fruit\",2])"
   ]
  },
  {
   "cell_type": "code",
   "execution_count": 65,
   "metadata": {},
   "outputs": [
    {
     "name": "stdout",
     "output_type": "stream",
     "text": [
      "9\n"
     ]
    }
   ],
   "source": [
    "def dictio (y):\n",
    "    x=0\n",
    "    for k in y.values():\n",
    "        x= x + k\n",
    "    print(x)\n",
    "dictio({'datum1': 3,'datum2': -4,'datum3': 10})"
   ]
  },
  {
   "cell_type": "markdown",
   "metadata": {},
   "source": [
    "<img src=\"miura.jpg\">"
   ]
  },
  {
   "cell_type": "code",
   "execution_count": null,
   "metadata": {},
   "outputs": [],
   "source": []
  }
 ],
 "metadata": {
  "kernelspec": {
   "display_name": "Python 3",
   "language": "python",
   "name": "python3"
  },
  "language_info": {
   "codemirror_mode": {
    "name": "ipython",
    "version": 3
   },
   "file_extension": ".py",
   "mimetype": "text/x-python",
   "name": "python",
   "nbconvert_exporter": "python",
   "pygments_lexer": "ipython3",
   "version": "3.7.3"
  }
 },
 "nbformat": 4,
 "nbformat_minor": 4
}
